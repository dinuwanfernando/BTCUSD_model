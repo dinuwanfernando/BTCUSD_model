{
  "nbformat": 4,
  "nbformat_minor": 0,
  "metadata": {
    "colab": {
      "provenance": [],
      "mount_file_id": "1Q0VgHXh0d10Wua2X6DlyWp_I_w17sKfZ",
      "authorship_tag": "ABX9TyOBIuK7c3vFPTSbOgzPZUD4",
      "include_colab_link": true
    },
    "kernelspec": {
      "name": "python3",
      "display_name": "Python 3"
    },
    "language_info": {
      "name": "python"
    }
  },
  "cells": [
    {
      "cell_type": "markdown",
      "metadata": {
        "id": "view-in-github",
        "colab_type": "text"
      },
      "source": [
        "<a href=\"https://colab.research.google.com/github/dinuwanfernando/BTCUSD_model/blob/main/BTCUSD_model.ipynb\" target=\"_parent\"><img src=\"https://colab.research.google.com/assets/colab-badge.svg\" alt=\"Open In Colab\"/></a>"
      ]
    },
    {
      "cell_type": "code",
      "execution_count": null,
      "metadata": {
        "colab": {
          "base_uri": "https://localhost:8080/"
        },
        "id": "IxsdzTYPdTK9",
        "outputId": "2121cf71-4044-412c-9fcf-2b81ed0a59cc"
      },
      "outputs": [
        {
          "output_type": "stream",
          "name": "stdout",
          "text": [
            "Drive already mounted at /content/drive; to attempt to forcibly remount, call drive.mount(\"/content/drive\", force_remount=True).\n"
          ]
        }
      ],
      "source": [
        "from google.colab import drive\n",
        "drive.mount('/content/drive')"
      ]
    },
    {
      "cell_type": "code",
      "source": [
        "import pandas as pd\n",
        "import numpy as np\n",
        "import math\n",
        "import seaborn as sns\n",
        "import xgboost as xgb\n",
        "from statsmodels.tsa.arima.model import ARIMA\n",
        "from statsmodels.tsa.statespace.varmax import VARMAX\n",
        "from statsmodels.tsa.api import VAR\n",
        "from sklearn.metrics import mean_squared_error, mean_absolute_error\n",
        "from sklearn.model_selection import GridSearchCV\n",
        "from math import sqrt\n",
        "import matplotlib.pyplot as plt\n",
        "!pip install prophet\n",
        "from prophet import Prophet"
      ],
      "metadata": {
        "colab": {
          "base_uri": "https://localhost:8080/"
        },
        "id": "C3UBXVTHhMPX",
        "outputId": "5a509b5f-67fe-4333-8581-639cf13195a2"
      },
      "execution_count": null,
      "outputs": [
        {
          "output_type": "stream",
          "name": "stdout",
          "text": [
            "Requirement already satisfied: prophet in /usr/local/lib/python3.10/dist-packages (1.1.5)\n",
            "Requirement already satisfied: cmdstanpy>=1.0.4 in /usr/local/lib/python3.10/dist-packages (from prophet) (1.2.2)\n",
            "Requirement already satisfied: numpy>=1.15.4 in /usr/local/lib/python3.10/dist-packages (from prophet) (1.25.2)\n",
            "Requirement already satisfied: matplotlib>=2.0.0 in /usr/local/lib/python3.10/dist-packages (from prophet) (3.7.1)\n",
            "Requirement already satisfied: pandas>=1.0.4 in /usr/local/lib/python3.10/dist-packages (from prophet) (1.5.3)\n",
            "Requirement already satisfied: holidays>=0.25 in /usr/local/lib/python3.10/dist-packages (from prophet) (0.45)\n",
            "Requirement already satisfied: tqdm>=4.36.1 in /usr/local/lib/python3.10/dist-packages (from prophet) (4.66.2)\n",
            "Requirement already satisfied: importlib-resources in /usr/local/lib/python3.10/dist-packages (from prophet) (6.4.0)\n",
            "Requirement already satisfied: stanio<2.0.0,>=0.4.0 in /usr/local/lib/python3.10/dist-packages (from cmdstanpy>=1.0.4->prophet) (0.5.0)\n",
            "Requirement already satisfied: python-dateutil in /usr/local/lib/python3.10/dist-packages (from holidays>=0.25->prophet) (2.8.2)\n",
            "Requirement already satisfied: contourpy>=1.0.1 in /usr/local/lib/python3.10/dist-packages (from matplotlib>=2.0.0->prophet) (1.2.0)\n",
            "Requirement already satisfied: cycler>=0.10 in /usr/local/lib/python3.10/dist-packages (from matplotlib>=2.0.0->prophet) (0.12.1)\n",
            "Requirement already satisfied: fonttools>=4.22.0 in /usr/local/lib/python3.10/dist-packages (from matplotlib>=2.0.0->prophet) (4.50.0)\n",
            "Requirement already satisfied: kiwisolver>=1.0.1 in /usr/local/lib/python3.10/dist-packages (from matplotlib>=2.0.0->prophet) (1.4.5)\n",
            "Requirement already satisfied: packaging>=20.0 in /usr/local/lib/python3.10/dist-packages (from matplotlib>=2.0.0->prophet) (24.0)\n",
            "Requirement already satisfied: pillow>=6.2.0 in /usr/local/lib/python3.10/dist-packages (from matplotlib>=2.0.0->prophet) (9.4.0)\n",
            "Requirement already satisfied: pyparsing>=2.3.1 in /usr/local/lib/python3.10/dist-packages (from matplotlib>=2.0.0->prophet) (3.1.2)\n",
            "Requirement already satisfied: pytz>=2020.1 in /usr/local/lib/python3.10/dist-packages (from pandas>=1.0.4->prophet) (2023.4)\n",
            "Requirement already satisfied: six>=1.5 in /usr/local/lib/python3.10/dist-packages (from python-dateutil->holidays>=0.25->prophet) (1.16.0)\n"
          ]
        }
      ]
    },
    {
      "cell_type": "code",
      "source": [
        "%pip install oandapyV20\n",
        "import oandapyV20\n",
        "import oandapyV20.endpoints.instruments as instruments\n",
        "from oandapyV20.contrib.requests import MarketOrderRequest\n",
        "access_token = \"25828916746768cb5cf6f0ec2b97218e-0b9185adf70ecd8cf1b53bb781a4b1f3\"\n",
        "%pip install git+https://github.com/yhilpisch/tpqoa.git\n",
        "api = oandapyV20.API(access_token=access_token)"
      ],
      "metadata": {
        "id": "kPU68r2bdvUl",
        "colab": {
          "base_uri": "https://localhost:8080/"
        },
        "outputId": "fb1b8a63-fd30-493d-9727-bd2be601924f"
      },
      "execution_count": null,
      "outputs": [
        {
          "output_type": "stream",
          "name": "stdout",
          "text": [
            "Requirement already satisfied: oandapyV20 in /usr/local/lib/python3.10/dist-packages (0.7.2)\n",
            "Collecting git+https://github.com/yhilpisch/tpqoa.git\n",
            "  Cloning https://github.com/yhilpisch/tpqoa.git to /tmp/pip-req-build-eum45p2p\n",
            "  Running command git clone --filter=blob:none --quiet https://github.com/yhilpisch/tpqoa.git /tmp/pip-req-build-eum45p2p\n",
            "  Resolved https://github.com/yhilpisch/tpqoa.git to commit 4a79f30b7095642844ef99741d9bfcb952e394db\n",
            "  Preparing metadata (setup.py) ... \u001b[?25l\u001b[?25hdone\n",
            "Requirement already satisfied: v20==3.0.25.0 in /usr/local/lib/python3.10/dist-packages (from tpqoa==0.0.56) (3.0.25.0)\n",
            "Requirement already satisfied: pyyaml in /usr/local/lib/python3.10/dist-packages (from tpqoa==0.0.56) (6.0.1)\n",
            "Requirement already satisfied: requests in /usr/local/lib/python3.10/dist-packages (from v20==3.0.25.0->tpqoa==0.0.56) (2.31.0)\n",
            "Requirement already satisfied: ujson in /usr/local/lib/python3.10/dist-packages (from v20==3.0.25.0->tpqoa==0.0.56) (5.9.0)\n",
            "Requirement already satisfied: charset-normalizer<4,>=2 in /usr/local/lib/python3.10/dist-packages (from requests->v20==3.0.25.0->tpqoa==0.0.56) (3.3.2)\n",
            "Requirement already satisfied: idna<4,>=2.5 in /usr/local/lib/python3.10/dist-packages (from requests->v20==3.0.25.0->tpqoa==0.0.56) (3.6)\n",
            "Requirement already satisfied: urllib3<3,>=1.21.1 in /usr/local/lib/python3.10/dist-packages (from requests->v20==3.0.25.0->tpqoa==0.0.56) (2.0.7)\n",
            "Requirement already satisfied: certifi>=2017.4.17 in /usr/local/lib/python3.10/dist-packages (from requests->v20==3.0.25.0->tpqoa==0.0.56) (2024.2.2)\n"
          ]
        }
      ]
    },
    {
      "cell_type": "code",
      "source": [
        "import tpqoa\n",
        "oanda = tpqoa.tpqoa(\"/content/drive/MyDrive/ML BTCUSD model/oanda.cfg.txt\")"
      ],
      "metadata": {
        "id": "ex66tHyPetFC"
      },
      "execution_count": null,
      "outputs": []
    },
    {
      "cell_type": "code",
      "source": [
        "# Function to download historical data using Oanda API\n",
        "def get_historical_data(instrument, start, end, granularity, price):\n",
        "    oanda = tpqoa.tpqoa(\"/content/drive/MyDrive/ML BTCUSD model/oanda.cfg.txt\")  # Update path if needed\n",
        "    df = oanda.get_history(instrument=instrument, start=start, end=end, granularity=granularity, price=price)\n",
        "    return df.dropna()\n"
      ],
      "metadata": {
        "id": "mFAaJrkCEkMW"
      },
      "execution_count": null,
      "outputs": []
    },
    {
      "cell_type": "code",
      "source": [
        "date_var= '2024-04-02'"
      ],
      "metadata": {
        "id": "r55rsW-Cf5KP"
      },
      "execution_count": null,
      "outputs": []
    },
    {
      "cell_type": "code",
      "source": [
        "df_BTC_pp_01= oanda.get_history(instrument= 'BTC_USD', start= '2014-05-07', end='2016-05-06', granularity= 'H1', price='M')\n",
        "df_BTC_pp_02= oanda.get_history(instrument= 'BTC_USD', start= '2016-05-07', end='2018-05-06', granularity= 'H1', price='M')\n",
        "df_BTC_pp_03= oanda.get_history(instrument= 'BTC_USD', start= '2018-05-07', end='2020-05-06', granularity= 'H1', price='M')\n",
        "df_BTC_pp_04= oanda.get_history(instrument= 'BTC_USD', start= '2020-05-07', end='2022-05-06', granularity= 'H1', price='M')\n",
        "df_BTC_pp_05= oanda.get_history(instrument= 'BTC_USD', start= '2022-05-07', end='2023-05-06', granularity= 'H1', price='M')\n",
        "df_BTC_pp_06= oanda.get_history(instrument= 'BTC_USD', start= '2023-05-07', end='2024-01-06', granularity= 'H1', price='M')\n",
        "df_BTC_pp_07= oanda.get_history(instrument= 'BTC_USD', start= '2024-01-07', end=date_var, granularity= 'H1', price='M')"
      ],
      "metadata": {
        "id": "pxrkLjXkfzu6"
      },
      "execution_count": null,
      "outputs": []
    },
    {
      "cell_type": "code",
      "source": [
        "df_btc_p= pd.concat([df_BTC_pp_01,df_BTC_pp_02,df_BTC_pp_03,df_BTC_pp_04,df_BTC_pp_05,df_BTC_pp_06,\n",
        "df_BTC_pp_07],axis=0).dropna()\n",
        "df_btc_p.index= pd.to_datetime(df_btc_p.index)\n",
        "df_btc_p= df_btc_p[df_btc_p.index < date_var].dropna()\n",
        "###df_btc_dat.index= df_btc_data.index.date to add the time back\n",
        "df_btc_p = df_btc_p.rename_axis('Date')\n",
        "df_btc_p.rename(columns={'o': 'open', 'h': 'high', 'l': 'low', 'c': 'btc_close','volume':'btc_volume'}, inplace=True)\n",
        "df_btc_p= df_btc_p[['high','low','btc_close','btc_volume']]\n",
        "df_btc_p1=df_btc_p.astype(float)\n",
        "print(df_btc_p1)\n",
        "df_btc_p1.dtypes"
      ],
      "metadata": {
        "colab": {
          "base_uri": "https://localhost:8080/"
        },
        "id": "9GjyExeahEC3",
        "outputId": "585e43c6-3022-44d8-e129-09b9fbf30e3e"
      },
      "execution_count": null,
      "outputs": [
        {
          "output_type": "stream",
          "name": "stdout",
          "text": [
            "                        high      low  btc_close  btc_volume\n",
            "Date                                                        \n",
            "2016-01-01 06:00:00    437.0    433.0      435.5      1616.0\n",
            "2016-01-01 07:00:00    437.2    434.9      435.3      1620.0\n",
            "2016-01-01 08:00:00    436.8    433.3      435.5      1377.0\n",
            "2016-01-01 09:00:00    435.9    434.1      434.5       868.0\n",
            "2016-01-01 10:00:00    435.9    433.4      433.9       789.0\n",
            "...                      ...      ...        ...         ...\n",
            "2024-04-01 19:00:00  69872.7  68908.3    69705.6     17438.0\n",
            "2024-04-01 20:00:00  69833.6  69367.2    69755.8     15563.0\n",
            "2024-04-01 21:00:00  69951.2  69578.6    69620.8     10540.0\n",
            "2024-04-01 22:00:00  69893.8  69614.4    69738.8     13519.0\n",
            "2024-04-01 23:00:00  69909.6  69672.0    69686.2     11447.0\n",
            "\n",
            "[54893 rows x 4 columns]\n"
          ]
        },
        {
          "output_type": "execute_result",
          "data": {
            "text/plain": [
              "high          float64\n",
              "low           float64\n",
              "btc_close     float64\n",
              "btc_volume    float64\n",
              "dtype: object"
            ]
          },
          "metadata": {},
          "execution_count": 129
        }
      ]
    },
    {
      "cell_type": "code",
      "source": [
        "# Function to calculate technical indicators\n",
        "def calculate_indicators(data):\n",
        "    data['RSI'] = calculate_rsi(data['close'], window=14)\n",
        "    #Maybe I will add more functions later with new indicators\n",
        "    return data"
      ],
      "metadata": {
        "id": "2hop1vIyFnwG"
      },
      "execution_count": null,
      "outputs": []
    },
    {
      "cell_type": "code",
      "source": [
        "#Function to calculate rsi\n",
        "\n",
        "def calculate_rsi(data, window=14):\n",
        "    delta = data.diff()\n",
        "    delta = delta[1:]  # Ignore NaN for first period\n",
        "    up, down = delta.clip(lower=0), delta.clip(upper=0) * -1\n",
        "    ema_up = up.ewm(alpha=1/window, min_periods=window, adjust=False).mean()\n",
        "    ema_down = down.ewm(alpha=1/window, min_periods=window, adjust=False).mean()\n",
        "    rs = ema_up / ema_down\n",
        "    rsi = 100 - (1 / (1 + rs))\n",
        "    return rsi\n"
      ],
      "metadata": {
        "id": "_T74KHoWJnXe"
      },
      "execution_count": null,
      "outputs": []
    },
    {
      "cell_type": "code",
      "source": [
        "def prepare_data(data):\n",
        "    data['Date'] = pd.to_datetime(data.index)\n",
        "    data.set_index('Date', inplace=True)  # Seting 'Date' as index\n",
        "\n",
        "    # Calculate technical indicators\n",
        "    data['RSI'] = calculate_rsi(data['btc_close'], window=14)  # Update column name\n",
        "\n",
        "    # Define features and target variable\n",
        "    features = ['high', 'low', 'btc_volume', 'RSI']  # Adjusting features based on indicators\n",
        "    target = 'btc_close'  # Update target variable name\n",
        "    return data[features], data[target]\n"
      ],
      "metadata": {
        "id": "McO4-7xEFiec"
      },
      "execution_count": null,
      "outputs": []
    },
    {
      "cell_type": "code",
      "source": [
        "from sklearn.preprocessing import MinMaxScaler\n",
        "\n",
        "# Feature Scaling\n",
        "scaler = MinMaxScaler(feature_range=(0, 1))\n"
      ],
      "metadata": {
        "id": "x99xtMnyGxMc"
      },
      "execution_count": null,
      "outputs": []
    },
    {
      "cell_type": "code",
      "source": [
        "df_btc_p.columns"
      ],
      "metadata": {
        "colab": {
          "base_uri": "https://localhost:8080/"
        },
        "id": "qlo32mSiKMCP",
        "outputId": "a5645381-538c-444b-9873-5eeb3faa8ce6"
      },
      "execution_count": null,
      "outputs": [
        {
          "output_type": "execute_result",
          "data": {
            "text/plain": [
              "Index(['high', 'low', 'btc_close', 'btc_volume'], dtype='object')"
            ]
          },
          "metadata": {},
          "execution_count": 134
        }
      ]
    },
    {
      "cell_type": "code",
      "source": [
        "# Prepare data\n",
        "#features, target = prepare_data(df_btc_p.copy())\n",
        "#scaled_features = scaler.fit_transform(features)  # Apply scaling to features"
      ],
      "metadata": {
        "id": "Lnkwk2L3JraQ"
      },
      "execution_count": null,
      "outputs": []
    },
    {
      "cell_type": "code",
      "source": [
        "# Split data into training and testing sets\n",
        "from sklearn.model_selection import train_test_split\n",
        "\n",
        "X, y = prepare_data(df_btc_p1.copy())\n",
        "scaled_features = scaler.fit_transform(X)\n",
        "X_train, X_test, y_train, y_test = train_test_split(scaled_features, y, test_size=0.2, random_state=42)\n",
        "\n"
      ],
      "metadata": {
        "id": "dBQNB8kOXXk5"
      },
      "execution_count": null,
      "outputs": []
    },
    {
      "cell_type": "code",
      "source": [
        "# Using and training XGBoost model\n",
        "xgb_model = XGBRegressor(n_estimators=100, learning_rate=0.05)\n",
        "xgb_model.fit(X_train, y_train)"
      ],
      "metadata": {
        "id": "rSXSnF81dNbn",
        "colab": {
          "base_uri": "https://localhost:8080/",
          "height": 248
        },
        "outputId": "44f9e29d-1153-4451-d2ed-97b85b0f6ce3"
      },
      "execution_count": null,
      "outputs": [
        {
          "output_type": "execute_result",
          "data": {
            "text/plain": [
              "XGBRegressor(base_score=None, booster=None, callbacks=None,\n",
              "             colsample_bylevel=None, colsample_bynode=None,\n",
              "             colsample_bytree=None, device=None, early_stopping_rounds=None,\n",
              "             enable_categorical=False, eval_metric=None, feature_types=None,\n",
              "             gamma=None, grow_policy=None, importance_type=None,\n",
              "             interaction_constraints=None, learning_rate=0.05, max_bin=None,\n",
              "             max_cat_threshold=None, max_cat_to_onehot=None,\n",
              "             max_delta_step=None, max_depth=None, max_leaves=None,\n",
              "             min_child_weight=None, missing=nan, monotone_constraints=None,\n",
              "             multi_strategy=None, n_estimators=100, n_jobs=None,\n",
              "             num_parallel_tree=None, random_state=None, ...)"
            ],
            "text/html": [
              "<style>#sk-container-id-4 {color: black;background-color: white;}#sk-container-id-4 pre{padding: 0;}#sk-container-id-4 div.sk-toggleable {background-color: white;}#sk-container-id-4 label.sk-toggleable__label {cursor: pointer;display: block;width: 100%;margin-bottom: 0;padding: 0.3em;box-sizing: border-box;text-align: center;}#sk-container-id-4 label.sk-toggleable__label-arrow:before {content: \"▸\";float: left;margin-right: 0.25em;color: #696969;}#sk-container-id-4 label.sk-toggleable__label-arrow:hover:before {color: black;}#sk-container-id-4 div.sk-estimator:hover label.sk-toggleable__label-arrow:before {color: black;}#sk-container-id-4 div.sk-toggleable__content {max-height: 0;max-width: 0;overflow: hidden;text-align: left;background-color: #f0f8ff;}#sk-container-id-4 div.sk-toggleable__content pre {margin: 0.2em;color: black;border-radius: 0.25em;background-color: #f0f8ff;}#sk-container-id-4 input.sk-toggleable__control:checked~div.sk-toggleable__content {max-height: 200px;max-width: 100%;overflow: auto;}#sk-container-id-4 input.sk-toggleable__control:checked~label.sk-toggleable__label-arrow:before {content: \"▾\";}#sk-container-id-4 div.sk-estimator input.sk-toggleable__control:checked~label.sk-toggleable__label {background-color: #d4ebff;}#sk-container-id-4 div.sk-label input.sk-toggleable__control:checked~label.sk-toggleable__label {background-color: #d4ebff;}#sk-container-id-4 input.sk-hidden--visually {border: 0;clip: rect(1px 1px 1px 1px);clip: rect(1px, 1px, 1px, 1px);height: 1px;margin: -1px;overflow: hidden;padding: 0;position: absolute;width: 1px;}#sk-container-id-4 div.sk-estimator {font-family: monospace;background-color: #f0f8ff;border: 1px dotted black;border-radius: 0.25em;box-sizing: border-box;margin-bottom: 0.5em;}#sk-container-id-4 div.sk-estimator:hover {background-color: #d4ebff;}#sk-container-id-4 div.sk-parallel-item::after {content: \"\";width: 100%;border-bottom: 1px solid gray;flex-grow: 1;}#sk-container-id-4 div.sk-label:hover label.sk-toggleable__label {background-color: #d4ebff;}#sk-container-id-4 div.sk-serial::before {content: \"\";position: absolute;border-left: 1px solid gray;box-sizing: border-box;top: 0;bottom: 0;left: 50%;z-index: 0;}#sk-container-id-4 div.sk-serial {display: flex;flex-direction: column;align-items: center;background-color: white;padding-right: 0.2em;padding-left: 0.2em;position: relative;}#sk-container-id-4 div.sk-item {position: relative;z-index: 1;}#sk-container-id-4 div.sk-parallel {display: flex;align-items: stretch;justify-content: center;background-color: white;position: relative;}#sk-container-id-4 div.sk-item::before, #sk-container-id-4 div.sk-parallel-item::before {content: \"\";position: absolute;border-left: 1px solid gray;box-sizing: border-box;top: 0;bottom: 0;left: 50%;z-index: -1;}#sk-container-id-4 div.sk-parallel-item {display: flex;flex-direction: column;z-index: 1;position: relative;background-color: white;}#sk-container-id-4 div.sk-parallel-item:first-child::after {align-self: flex-end;width: 50%;}#sk-container-id-4 div.sk-parallel-item:last-child::after {align-self: flex-start;width: 50%;}#sk-container-id-4 div.sk-parallel-item:only-child::after {width: 0;}#sk-container-id-4 div.sk-dashed-wrapped {border: 1px dashed gray;margin: 0 0.4em 0.5em 0.4em;box-sizing: border-box;padding-bottom: 0.4em;background-color: white;}#sk-container-id-4 div.sk-label label {font-family: monospace;font-weight: bold;display: inline-block;line-height: 1.2em;}#sk-container-id-4 div.sk-label-container {text-align: center;}#sk-container-id-4 div.sk-container {/* jupyter's `normalize.less` sets `[hidden] { display: none; }` but bootstrap.min.css set `[hidden] { display: none !important; }` so we also need the `!important` here to be able to override the default hidden behavior on the sphinx rendered scikit-learn.org. See: https://github.com/scikit-learn/scikit-learn/issues/21755 */display: inline-block !important;position: relative;}#sk-container-id-4 div.sk-text-repr-fallback {display: none;}</style><div id=\"sk-container-id-4\" class=\"sk-top-container\"><div class=\"sk-text-repr-fallback\"><pre>XGBRegressor(base_score=None, booster=None, callbacks=None,\n",
              "             colsample_bylevel=None, colsample_bynode=None,\n",
              "             colsample_bytree=None, device=None, early_stopping_rounds=None,\n",
              "             enable_categorical=False, eval_metric=None, feature_types=None,\n",
              "             gamma=None, grow_policy=None, importance_type=None,\n",
              "             interaction_constraints=None, learning_rate=0.05, max_bin=None,\n",
              "             max_cat_threshold=None, max_cat_to_onehot=None,\n",
              "             max_delta_step=None, max_depth=None, max_leaves=None,\n",
              "             min_child_weight=None, missing=nan, monotone_constraints=None,\n",
              "             multi_strategy=None, n_estimators=100, n_jobs=None,\n",
              "             num_parallel_tree=None, random_state=None, ...)</pre><b>In a Jupyter environment, please rerun this cell to show the HTML representation or trust the notebook. <br />On GitHub, the HTML representation is unable to render, please try loading this page with nbviewer.org.</b></div><div class=\"sk-container\" hidden><div class=\"sk-item\"><div class=\"sk-estimator sk-toggleable\"><input class=\"sk-toggleable__control sk-hidden--visually\" id=\"sk-estimator-id-4\" type=\"checkbox\" checked><label for=\"sk-estimator-id-4\" class=\"sk-toggleable__label sk-toggleable__label-arrow\">XGBRegressor</label><div class=\"sk-toggleable__content\"><pre>XGBRegressor(base_score=None, booster=None, callbacks=None,\n",
              "             colsample_bylevel=None, colsample_bynode=None,\n",
              "             colsample_bytree=None, device=None, early_stopping_rounds=None,\n",
              "             enable_categorical=False, eval_metric=None, feature_types=None,\n",
              "             gamma=None, grow_policy=None, importance_type=None,\n",
              "             interaction_constraints=None, learning_rate=0.05, max_bin=None,\n",
              "             max_cat_threshold=None, max_cat_to_onehot=None,\n",
              "             max_delta_step=None, max_depth=None, max_leaves=None,\n",
              "             min_child_weight=None, missing=nan, monotone_constraints=None,\n",
              "             multi_strategy=None, n_estimators=100, n_jobs=None,\n",
              "             num_parallel_tree=None, random_state=None, ...)</pre></div></div></div></div></div>"
            ]
          },
          "metadata": {},
          "execution_count": 137
        }
      ]
    },
    {
      "cell_type": "code",
      "source": [
        "# Define and train VAR model\n",
        "#!pip install statsmodels\n",
        "#from statsmodels.tsa.var import VAR\n",
        "#var_model = VAR(X_train)\n",
        "#var_model_fit = var_model.fit()"
      ],
      "metadata": {
        "id": "ys8h7qaZHSfg"
      },
      "execution_count": null,
      "outputs": []
    },
    {
      "cell_type": "code",
      "source": [
        "# Using and training ARIMA model\n",
        "arima_model = ARIMA(y_train, order=(5, 1, 1))\n",
        "arima_model_fit = arima_model.fit()\n"
      ],
      "metadata": {
        "colab": {
          "base_uri": "https://localhost:8080/"
        },
        "id": "Ev6RLnFfHTLG",
        "outputId": "1504f924-20da-488c-e708-bcfced3e97af"
      },
      "execution_count": null,
      "outputs": [
        {
          "output_type": "stream",
          "name": "stderr",
          "text": [
            "/usr/local/lib/python3.10/dist-packages/statsmodels/tsa/base/tsa_model.py:473: ValueWarning: A date index has been provided, but it has no associated frequency information and so will be ignored when e.g. forecasting.\n",
            "  self._init_dates(dates, freq)\n",
            "/usr/local/lib/python3.10/dist-packages/statsmodels/tsa/base/tsa_model.py:473: ValueWarning: A date index has been provided, but it is not monotonic and so will be ignored when e.g. forecasting.\n",
            "  self._init_dates(dates, freq)\n",
            "/usr/local/lib/python3.10/dist-packages/statsmodels/tsa/base/tsa_model.py:473: ValueWarning: A date index has been provided, but it has no associated frequency information and so will be ignored when e.g. forecasting.\n",
            "  self._init_dates(dates, freq)\n",
            "/usr/local/lib/python3.10/dist-packages/statsmodels/tsa/base/tsa_model.py:473: ValueWarning: A date index has been provided, but it is not monotonic and so will be ignored when e.g. forecasting.\n",
            "  self._init_dates(dates, freq)\n",
            "/usr/local/lib/python3.10/dist-packages/statsmodels/tsa/base/tsa_model.py:473: ValueWarning: A date index has been provided, but it has no associated frequency information and so will be ignored when e.g. forecasting.\n",
            "  self._init_dates(dates, freq)\n",
            "/usr/local/lib/python3.10/dist-packages/statsmodels/tsa/base/tsa_model.py:473: ValueWarning: A date index has been provided, but it is not monotonic and so will be ignored when e.g. forecasting.\n",
            "  self._init_dates(dates, freq)\n"
          ]
        }
      ]
    },
    {
      "cell_type": "code",
      "source": [
        "# Make predictions on testing set\n",
        "xgb_pred = xgb_model.predict(X_test)\n",
        "#var_pred = var_model_fit.forecast(steps=len(y_test))[:, 0]  # Select first column for single variable\n",
        "arima_pred = arima_model_fit.predict(start=len(y_train), end=len(y_train) + len(y_test) - 1, typ='levels')\n"
      ],
      "metadata": {
        "colab": {
          "base_uri": "https://localhost:8080/"
        },
        "id": "VxzrUg35HXcw",
        "outputId": "3f633f9f-7e23-4e46-86aa-0f23381957a4"
      },
      "execution_count": null,
      "outputs": [
        {
          "output_type": "stream",
          "name": "stderr",
          "text": [
            "/usr/local/lib/python3.10/dist-packages/statsmodels/tsa/base/tsa_model.py:836: ValueWarning: No supported index is available. Prediction results will be given with an integer index beginning at `start`.\n",
            "  return get_prediction_index(\n",
            "/usr/local/lib/python3.10/dist-packages/statsmodels/tsa/base/tsa_model.py:836: FutureWarning: No supported index is available. In the next version, calling this method in a model without a supported index will result in an exception.\n",
            "  return get_prediction_index(\n",
            "/usr/local/lib/python3.10/dist-packages/statsmodels/tsa/statespace/representation.py:374: FutureWarning: Unknown keyword arguments: dict_keys(['typ']).Passing unknown keyword arguments will raise a TypeError beginning in version 0.15.\n",
            "  warnings.warn(msg, FutureWarning)\n"
          ]
        }
      ]
    },
    {
      "cell_type": "code",
      "source": [
        "# Evaluate model performance\n",
        "def evaluate_model(y_true, y_pred):\n",
        "  mse = mean_squared_error(y_true, y_pred)\n",
        "  mae = mean_absolute_error(y_true, y_pred)\n",
        "  rmse = sqrt(mse)\n",
        "  print('MSE:', mse)\n",
        "  print('MAE:', mae)\n",
        "  print('RMSE:', rmse)\n"
      ],
      "metadata": {
        "id": "HeadrkrxHaqh"
      },
      "execution_count": null,
      "outputs": []
    },
    {
      "cell_type": "code",
      "source": [
        "print(\"XGBoost Model Performance:\")\n",
        "evaluate_model(y_test, xgb_pred)\n",
        "\n",
        "print(\"\\nARIMA Model Performance:\")\n",
        "evaluate_model(y_test, arima_pred)\n"
      ],
      "metadata": {
        "colab": {
          "base_uri": "https://localhost:8080/"
        },
        "id": "bXTzyWt0bAc6",
        "outputId": "ac7be78b-ca13-4add-ab28-d2162372f6db"
      },
      "execution_count": null,
      "outputs": [
        {
          "output_type": "stream",
          "name": "stdout",
          "text": [
            "XGBoost Model Performance:\n",
            "MSE: 35186.597796222624\n",
            "MAE: 117.76348871671824\n",
            "RMSE: 187.5809099994523\n",
            "\n",
            "ARIMA Model Performance:\n",
            "MSE: 291546945.19801223\n",
            "MAE: 14128.619185163328\n",
            "RMSE: 17074.745831139397\n"
          ]
        }
      ]
    },
    {
      "cell_type": "code",
      "source": [
        "# Predict for future dates\n",
        "future_predictions = 5\n",
        "future_features = scaler.transform(prepare_data(df_btc_p1.copy().tail(future_predictions))[0])\n",
        "future_pred_xgb = xgb_model.predict(future_features)\n",
        "future_pred_arima = arima_model_fit.forecast(steps=future_predictions)\n",
        "\n",
        "print(\"\\nXGBoost Predictions for Future Dates:\", future_pred_xgb)\n",
        "print(\"ARIMA Predictions for Future Dates:\", future_pred_arima)"
      ],
      "metadata": {
        "colab": {
          "base_uri": "https://localhost:8080/"
        },
        "id": "X_BGZLTYbFo6",
        "outputId": "cb316ba8-693b-4a66-fd3b-95ee15b3aba4"
      },
      "execution_count": null,
      "outputs": [
        {
          "output_type": "stream",
          "name": "stdout",
          "text": [
            "\n",
            "XGBoost Predictions for Future Dates: [70924.2  70924.2  71207.1  71136.48 71207.1 ]\n",
            "ARIMA Predictions for Future Dates: 43914    17014.963293\n",
            "43915    16694.868585\n",
            "43916    16742.609149\n",
            "43917    16871.130300\n",
            "43918    16832.718992\n",
            "Name: predicted_mean, dtype: float64\n"
          ]
        },
        {
          "output_type": "stream",
          "name": "stderr",
          "text": [
            "/usr/local/lib/python3.10/dist-packages/statsmodels/tsa/base/tsa_model.py:836: ValueWarning: No supported index is available. Prediction results will be given with an integer index beginning at `start`.\n",
            "  return get_prediction_index(\n",
            "/usr/local/lib/python3.10/dist-packages/statsmodels/tsa/base/tsa_model.py:836: FutureWarning: No supported index is available. In the next version, calling this method in a model without a supported index will result in an exception.\n",
            "  return get_prediction_index(\n"
          ]
        }
      ]
    },
    {
      "cell_type": "code",
      "source": [
        "# Optional: Visualize results\n",
        "plt.figure(figsize=(12, 6))\n",
        "plt.plot(y_test.index, y_test, label='Actual')\n",
        "plt.plot(y_test.index, xgb_pred, label='XGBoost Prediction')\n",
        "plt.plot(y_test.index, arima_pred, label='ARIMA Prediction')\n",
        "plt.legend()\n",
        "plt.show()"
      ],
      "metadata": {
        "colab": {
          "base_uri": "https://localhost:8080/",
          "height": 522
        },
        "id": "5tbyfJLxbHdR",
        "outputId": "3f578b4e-be95-4626-ec74-87658598dbb2"
      },
      "execution_count": null,
      "outputs": [
        {
          "output_type": "display_data",
          "data": {
            "text/plain": [
              "<Figure size 1200x600 with 1 Axes>"
            ],
            "image/png": "[encoded data removed]"
          },
          "metadata": {}
        }
      ]
    },
    {
      "cell_type": "code",
      "source": [
        "# Predict for future dates (adjust number of predictions as needed)\n",
        "#future_predictions = 5\n",
        "#future_dates = pd.date_range(start=df_btc_p.index[-1] + pd.DateOffset(days=1), periods=future_predictions)\n",
        "#future_features = scaler.transform(prepare_data(df_btc_p[future_dates.to_list()])[0])  # Assuming 'Datetime' is the index\n",
        "\n",
        "# Make predictions using the best model (replace 'xgb_model' with your best model)\n",
        "#future_pred = xgb_model.predict(future_features)\n",
        "\n",
        "# Optional: Visualize results (replace 'y_test' with actual values if desired)\n",
        "#plt.figure(figsize=(12, 6))\n",
        "#plt.plot(y_test.index, y_test, label='Actual')\n",
        "#plt.plot(y_test.index, xgb_pred, label='XGBoost Prediction')  # Replace with your best model's prediction\n",
        "#plt.legend()\n",
        "#plt.show()\n"
      ],
      "metadata": {
        "id": "t0-M525lHkYi"
      },
      "execution_count": null,
      "outputs": []
    },
    {
      "cell_type": "code",
      "source": [],
      "metadata": {
        "id": "jzKY5OrkPcxI"
      },
      "execution_count": null,
      "outputs": []
    }
  ]
}