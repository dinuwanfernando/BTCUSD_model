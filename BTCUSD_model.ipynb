{
  "nbformat": 4,
  "nbformat_minor": 0,
  "metadata": {
    "colab": {
      "provenance": [],
      "mount_file_id": "1Q0VgHXh0d10Wua2X6DlyWp_I_w17sKfZ",
      "authorship_tag": "ABX9TyMnqruffpd5CZLG+GXHBHOz",
      "include_colab_link": true
    },
    "kernelspec": {
      "name": "python3",
      "display_name": "Python 3"
    },
    "language_info": {
      "name": "python"
    }
  },
  "cells": [
    {
      "cell_type": "markdown",
      "metadata": {
        "id": "view-in-github",
        "colab_type": "text"
      },
      "source": [
        "<a href=\"https://colab.research.google.com/github/dinuwanfernando/BTCUSD_model/blob/main/BTCUSD_model.ipynb\" target=\"_parent\"><img src=\"https://colab.research.google.com/assets/colab-badge.svg\" alt=\"Open In Colab\"/></a>"
      ]
    },
    {
      "cell_type": "code",
      "source": [
        "#import tensorflow as tf\n",
        "#from tensorflow.keras import layers"
      ],
      "metadata": {
        "id": "XdQYqYhnFFPK"
      },
      "execution_count": 1,
      "outputs": []
    },
    {
      "cell_type": "code",
      "source": [
        "#print('Num GPUs Available:', len(tf.config.experimental.list_physical_devices('GPU')))"
      ],
      "metadata": {
        "id": "2kl3tNUZFe4_"
      },
      "execution_count": 2,
      "outputs": []
    },
    {
      "cell_type": "code",
      "source": [
        "#!nvidia-smi"
      ],
      "metadata": {
        "id": "kD8_p7QyDTCD"
      },
      "execution_count": 3,
      "outputs": []
    },
    {
      "cell_type": "code",
      "source": [
        "#!pip install git+https://github.com/andreinechaev/nvcc4jupyter.git"
      ],
      "metadata": {
        "id": "t7QsMyxPDe9d"
      },
      "execution_count": 4,
      "outputs": []
    },
    {
      "cell_type": "code",
      "execution_count": 5,
      "metadata": {
        "colab": {
          "base_uri": "https://localhost:8080/"
        },
        "id": "IxsdzTYPdTK9",
        "outputId": "a6b21bd3-34e7-4d2a-ff74-3ad12590d9eb"
      },
      "outputs": [
        {
          "output_type": "stream",
          "name": "stdout",
          "text": [
            "Drive already mounted at /content/drive; to attempt to forcibly remount, call drive.mount(\"/content/drive\", force_remount=True).\n"
          ]
        }
      ],
      "source": [
        "from google.colab import drive\n",
        "drive.mount('/content/drive')"
      ]
    },
    {
      "cell_type": "code",
      "source": [
        "import pandas as pd\n",
        "import numpy as np\n",
        "import math\n",
        "import seaborn as sns\n",
        "import xgboost as xgb\n",
        "from statsmodels.tsa.arima.model import ARIMA\n",
        "from statsmodels.tsa.statespace.varmax import VARMAX\n",
        "from statsmodels.tsa.api import VAR\n",
        "from sklearn.metrics import mean_squared_error, mean_absolute_error\n",
        "from sklearn.model_selection import GridSearchCV\n",
        "from math import sqrt\n",
        "import matplotlib.pyplot as plt\n",
        "!pip install prophet\n",
        "from prophet import Prophet"
      ],
      "metadata": {
        "colab": {
          "base_uri": "https://localhost:8080/"
        },
        "id": "C3UBXVTHhMPX",
        "outputId": "25ef697e-3edd-489b-93e9-b4c0b3144c05"
      },
      "execution_count": 6,
      "outputs": [
        {
          "output_type": "stream",
          "name": "stdout",
          "text": [
            "Requirement already satisfied: prophet in /usr/local/lib/python3.10/dist-packages (1.1.5)\n",
            "Requirement already satisfied: cmdstanpy>=1.0.4 in /usr/local/lib/python3.10/dist-packages (from prophet) (1.2.2)\n",
            "Requirement already satisfied: numpy>=1.15.4 in /usr/local/lib/python3.10/dist-packages (from prophet) (1.25.2)\n",
            "Requirement already satisfied: matplotlib>=2.0.0 in /usr/local/lib/python3.10/dist-packages (from prophet) (3.7.1)\n",
            "Requirement already satisfied: pandas>=1.0.4 in /usr/local/lib/python3.10/dist-packages (from prophet) (1.5.3)\n",
            "Requirement already satisfied: holidays>=0.25 in /usr/local/lib/python3.10/dist-packages (from prophet) (0.45)\n",
            "Requirement already satisfied: tqdm>=4.36.1 in /usr/local/lib/python3.10/dist-packages (from prophet) (4.66.2)\n",
            "Requirement already satisfied: importlib-resources in /usr/local/lib/python3.10/dist-packages (from prophet) (6.4.0)\n",
            "Requirement already satisfied: stanio<2.0.0,>=0.4.0 in /usr/local/lib/python3.10/dist-packages (from cmdstanpy>=1.0.4->prophet) (0.5.0)\n",
            "Requirement already satisfied: python-dateutil in /usr/local/lib/python3.10/dist-packages (from holidays>=0.25->prophet) (2.8.2)\n",
            "Requirement already satisfied: contourpy>=1.0.1 in /usr/local/lib/python3.10/dist-packages (from matplotlib>=2.0.0->prophet) (1.2.0)\n",
            "Requirement already satisfied: cycler>=0.10 in /usr/local/lib/python3.10/dist-packages (from matplotlib>=2.0.0->prophet) (0.12.1)\n",
            "Requirement already satisfied: fonttools>=4.22.0 in /usr/local/lib/python3.10/dist-packages (from matplotlib>=2.0.0->prophet) (4.50.0)\n",
            "Requirement already satisfied: kiwisolver>=1.0.1 in /usr/local/lib/python3.10/dist-packages (from matplotlib>=2.0.0->prophet) (1.4.5)\n",
            "Requirement already satisfied: packaging>=20.0 in /usr/local/lib/python3.10/dist-packages (from matplotlib>=2.0.0->prophet) (24.0)\n",
            "Requirement already satisfied: pillow>=6.2.0 in /usr/local/lib/python3.10/dist-packages (from matplotlib>=2.0.0->prophet) (9.4.0)\n",
            "Requirement already satisfied: pyparsing>=2.3.1 in /usr/local/lib/python3.10/dist-packages (from matplotlib>=2.0.0->prophet) (3.1.2)\n",
            "Requirement already satisfied: pytz>=2020.1 in /usr/local/lib/python3.10/dist-packages (from pandas>=1.0.4->prophet) (2023.4)\n",
            "Requirement already satisfied: six>=1.5 in /usr/local/lib/python3.10/dist-packages (from python-dateutil->holidays>=0.25->prophet) (1.16.0)\n"
          ]
        }
      ]
    },
    {
      "cell_type": "code",
      "source": [
        "%pip install oandapyV20\n",
        "import oandapyV20\n",
        "import oandapyV20.endpoints.instruments as instruments\n",
        "from oandapyV20.contrib.requests import MarketOrderRequest\n",
        "access_token = \"25828916746768cb5cf6f0ec2b97218e-0b9185adf70ecd8cf1b53bb781a4b1f3\"\n",
        "%pip install git+https://github.com/yhilpisch/tpqoa.git\n",
        "api = oandapyV20.API(access_token=access_token)"
      ],
      "metadata": {
        "id": "kPU68r2bdvUl",
        "colab": {
          "base_uri": "https://localhost:8080/"
        },
        "outputId": "2815a946-576b-44a1-85bf-5e486c979619"
      },
      "execution_count": null,
      "outputs": [
        {
          "output_type": "stream",
          "name": "stdout",
          "text": [
            "Collecting oandapyV20\n",
            "  Downloading oandapyV20-0.7.2.tar.gz (51 kB)\n",
            "\u001b[2K     \u001b[90m━━━━━━━━━━━━━━━━━━━━━━━━━━━━━━━━━━━━━━━━\u001b[0m \u001b[32m51.6/51.6 kB\u001b[0m \u001b[31m1.8 MB/s\u001b[0m eta \u001b[36m0:00:00\u001b[0m\n",
            "\u001b[?25h  Preparing metadata (setup.py) ... \u001b[?25l\u001b[?25hdone\n",
            "Building wheels for collected packages: oandapyV20\n",
            "  Building wheel for oandapyV20 (setup.py) ... \u001b[?25l\u001b[?25hdone\n",
            "  Created wheel for oandapyV20: filename=oandapyV20-0.7.2-py3-none-any.whl size=69779 sha256=811e9767ae38788b98b35a7a74d9b5fbc9bfda02deb477d43c6e442087071b1d\n",
            "  Stored in directory: /root/.cache/pip/wheels/8e/69/ab/a6da84a85b9bf3b5a98ca15c6c52b7854f32b10c70fe0531a1\n",
            "Successfully built oandapyV20\n"
          ]
        }
      ]
    },
    {
      "cell_type": "code",
      "source": [
        "import tpqoa\n",
        "oanda = tpqoa.tpqoa(\"/content/drive/MyDrive/ML BTCUSD model/oanda.cfg.txt\")"
      ],
      "metadata": {
        "id": "ex66tHyPetFC"
      },
      "execution_count": null,
      "outputs": []
    },
    {
      "cell_type": "code",
      "source": [
        "date_var= '2024-04-01'"
      ],
      "metadata": {
        "id": "r55rsW-Cf5KP"
      },
      "execution_count": null,
      "outputs": []
    },
    {
      "cell_type": "code",
      "source": [
        "df_BTC_pp_01= oanda.get_history(instrument= 'BTC_USD', start= '2014-05-07', end='2016-05-06', granularity= 'H1', price='M')\n",
        "df_BTC_pp_02= oanda.get_history(instrument= 'BTC_USD', start= '2016-05-07', end='2018-05-06', granularity= 'H1', price='M')\n",
        "df_BTC_pp_03= oanda.get_history(instrument= 'BTC_USD', start= '2018-05-07', end='2020-05-06', granularity= 'H1', price='M')\n",
        "df_BTC_pp_04= oanda.get_history(instrument= 'BTC_USD', start= '2020-05-07', end='2022-05-06', granularity= 'H1', price='M')\n",
        "df_BTC_pp_05= oanda.get_history(instrument= 'BTC_USD', start= '2022-05-07', end='2023-05-06', granularity= 'H1', price='M')\n",
        "df_BTC_pp_06= oanda.get_history(instrument= 'BTC_USD', start= '2023-05-07', end='2024-01-06', granularity= 'H1', price='M')\n",
        "df_BTC_pp_07= oanda.get_history(instrument= 'BTC_USD', start= '2024-01-07', end=date_var, granularity= 'H1', price='M')"
      ],
      "metadata": {
        "id": "pxrkLjXkfzu6"
      },
      "execution_count": null,
      "outputs": []
    },
    {
      "cell_type": "code",
      "source": [
        "df_btc_p= pd.concat([df_BTC_pp_01,df_BTC_pp_02,df_BTC_pp_03,df_BTC_pp_04,df_BTC_pp_05,df_BTC_pp_06,\n",
        "df_BTC_pp_07],axis=0).dropna()\n",
        "df_btc_p.index= pd.to_datetime(df_btc_p.index)\n",
        "df_btc_p= df_btc_p[df_btc_p.index < date_var].dropna()\n",
        "#df_btc_dat.index= df_btc_data.index.date to add the time back\n",
        "df_btc_p = df_btc_p.rename_axis('Date')\n",
        "df_btc_p.rename(columns={'o': 'open', 'h': 'high', 'l': 'low', 'c': 'btc_close','volume':'btc_volume'}, inplace=True)\n",
        "df_btc_p= df_btc_p[['high','low','btc_close','btc_volume']]\n",
        "df_btc_p1=df_btc_p.astype(float)\n",
        "print(df_btc_p1)\n",
        "df_btc_p1.dtypes"
      ],
      "metadata": {
        "id": "9GjyExeahEC3"
      },
      "execution_count": null,
      "outputs": []
    },
    {
      "cell_type": "code",
      "source": [
        "# Split data into training and testing sets\n",
        "from sklearn.model_selection import train_test_split\n",
        "\n",
        "# Define features and target variable\n",
        "features = ['high', 'low', 'btc_volume']\n",
        "target = 'btc_close'\n",
        "\n",
        "X_train, X_test, y_train, y_test = train_test_split(df_btc_p1[features], df_btc_p1[target], test_size=0.2, random_state=42)\n"
      ],
      "metadata": {
        "id": "dBQNB8kOXXk5"
      },
      "execution_count": null,
      "outputs": []
    },
    {
      "cell_type": "code",
      "source": [
        "# Machine learning model\n",
        "from xgboost import XGBRegressor\n",
        "\n",
        "model = XGBRegressor()\n"
      ],
      "metadata": {
        "id": "Fu6HrovcXvuE"
      },
      "execution_count": null,
      "outputs": []
    },
    {
      "cell_type": "code",
      "source": [
        "# Train the model\n",
        "model.fit(X_train, y_train)"
      ],
      "metadata": {
        "id": "7bRLovf8X_Cn"
      },
      "execution_count": null,
      "outputs": []
    },
    {
      "cell_type": "code",
      "source": [
        "# Make predictions on the test set\n",
        "y_pred = model.predict(X_test)\n"
      ],
      "metadata": {
        "id": "Ejq7Li3fX_wQ"
      },
      "execution_count": null,
      "outputs": []
    },
    {
      "cell_type": "code",
      "source": [
        "# Evaluate the model (optional)\n",
        "from sklearn.metrics import mean_squared_error\n",
        "\n",
        "# Calculate the mean squared error\n",
        "mse = mean_squared_error(y_test, y_pred)\n",
        "print(f\"Mean Squared Error: {mse}\")"
      ],
      "metadata": {
        "id": "Ck_soX1GYEpV"
      },
      "execution_count": null,
      "outputs": []
    },
    {
      "cell_type": "code",
      "source": [
        "# Predict for the next 5 days\n",
        "future_dates = pd.date_range(start=date_var, periods=5, freq='D')\n",
        "future_df = pd.DataFrame({'Date': future_dates})"
      ],
      "metadata": {
        "id": "GZB9qJ_6YKNe"
      },
      "execution_count": null,
      "outputs": []
    },
    {
      "cell_type": "code",
      "source": [
        "print(future_df)"
      ],
      "metadata": {
        "id": "8bDe_XVOanH_"
      },
      "execution_count": null,
      "outputs": []
    },
    {
      "cell_type": "code",
      "source": [
        "# Ensure features are present in future_df\n",
        "#for feature in features:  # features = ['high', 'low', 'btc_volume']\n",
        "  #if feature not in future_df.columns:\n",
        "   # future_df[feature] = np.NAN  # Fill with NaN or most recent value"
      ],
      "metadata": {
        "id": "_JlPrCv1YRR8"
      },
      "execution_count": null,
      "outputs": []
    },
    {
      "cell_type": "code",
      "source": [
        "# Use the trained model to predict prices for the next 5 days\n",
        "#future_df['Predicted_Price'] = model.predict(future_df[features])\n",
        "\n",
        "# Print the predicted prices\n",
        "#print(future_df)"
      ],
      "metadata": {
        "id": "n7ZA4DPkYTjp"
      },
      "execution_count": null,
      "outputs": []
    },
    {
      "cell_type": "code",
      "source": [
        "# Ensure features are present in future_df\n",
        "for feature in features:\n",
        " if feature not in future_df.columns:\n",
        "    future_df[feature] = df_btc_p1[feature].tail(1).values[0]  # Fill with most recent value"
      ],
      "metadata": {
        "id": "uLvmSzgcZx2M"
      },
      "execution_count": null,
      "outputs": []
    },
    {
      "cell_type": "code",
      "source": [
        "# Use the trained model to predict prices\n",
        "future_df['Predicted_Price'] = model.predict(future_df[features])\n",
        "\n",
        "# Print the DataFrame with filled values\n",
        "print(future_df)"
      ],
      "metadata": {
        "id": "9bjnO24CcF51"
      },
      "execution_count": null,
      "outputs": []
    },
    {
      "cell_type": "code",
      "source": [
        "# Plot actual historical prices\n",
        "plt.plot(df_btc_p1.index, df_btc_p1['btc_close'], label='Actual Price')\n",
        "\n",
        "# Plot predicted prices (assuming 'future_df' has predicted prices)\n",
        "plt.plot(future_df['Date'], future_df['Predicted_Price'], label='Predicted Price')\n",
        "\n",
        "# Set labels and title\n",
        "plt.xlabel('Date')\n",
        "plt.ylabel('BTC Price')\n",
        "plt.title('BTCUSD Price Prediction')\n",
        "\n",
        "# Add legend and grid\n",
        "plt.legend()\n",
        "plt.grid(True)\n",
        "\n",
        "# Rotate x-axis labels for better readability (optional)\n",
        "plt.xticks(rotation=45)  # Uncomment this line if needed\n",
        "\n",
        "# Show the plot\n",
        "plt.show()"
      ],
      "metadata": {
        "id": "BPdz0G6tclYb"
      },
      "execution_count": null,
      "outputs": []
    },
    {
      "cell_type": "code",
      "source": [],
      "metadata": {
        "id": "rSXSnF81dNbn"
      },
      "execution_count": null,
      "outputs": []
    }
  ]
}